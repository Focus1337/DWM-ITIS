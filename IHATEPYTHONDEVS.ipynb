{
  "nbformat": 4,
  "nbformat_minor": 0,
  "metadata": {
    "colab": {
      "provenance": []
    },
    "kernelspec": {
      "name": "python3",
      "display_name": "Python 3"
    },
    "language_info": {
      "name": "python"
    }
  },
  "cells": [
    {
      "cell_type": "code",
      "source": [
        "!pip install pyspark\n",
        "# Spark SQL\n",
        "!pip install pyspark[sql]\n",
        "# pandas API on Spark\n",
        "!pip install pyspark[pandas_on_spark] plotly  # to plot your data, you can install plotly together.\n",
        "# Spark Connect\n",
        "!pip install pyspark[connect]\n"
      ],
      "metadata": {
        "colab": {
          "base_uri": "https://localhost:8080/"
        },
        "id": "tpfhMpPrQwrv",
        "outputId": "625eb237-455a-41d7-b88f-6e3a3295fabe"
      },
      "execution_count": 16,
      "outputs": [
        {
          "output_type": "stream",
          "name": "stdout",
          "text": [
            "Requirement already satisfied: pyspark in /usr/local/lib/python3.10/dist-packages (3.5.0)\n",
            "Requirement already satisfied: py4j==0.10.9.7 in /usr/local/lib/python3.10/dist-packages (from pyspark) (0.10.9.7)\n",
            "Requirement already satisfied: pyspark[sql] in /usr/local/lib/python3.10/dist-packages (3.5.0)\n",
            "Requirement already satisfied: py4j==0.10.9.7 in /usr/local/lib/python3.10/dist-packages (from pyspark[sql]) (0.10.9.7)\n",
            "Requirement already satisfied: pandas>=1.0.5 in /usr/local/lib/python3.10/dist-packages (from pyspark[sql]) (1.5.3)\n",
            "Requirement already satisfied: pyarrow>=4.0.0 in /usr/local/lib/python3.10/dist-packages (from pyspark[sql]) (9.0.0)\n",
            "Requirement already satisfied: numpy>=1.15 in /usr/local/lib/python3.10/dist-packages (from pyspark[sql]) (1.23.5)\n",
            "Requirement already satisfied: python-dateutil>=2.8.1 in /usr/local/lib/python3.10/dist-packages (from pandas>=1.0.5->pyspark[sql]) (2.8.2)\n",
            "Requirement already satisfied: pytz>=2020.1 in /usr/local/lib/python3.10/dist-packages (from pandas>=1.0.5->pyspark[sql]) (2023.3.post1)\n",
            "Requirement already satisfied: six>=1.5 in /usr/local/lib/python3.10/dist-packages (from python-dateutil>=2.8.1->pandas>=1.0.5->pyspark[sql]) (1.16.0)\n",
            "Requirement already satisfied: pyspark[pandas_on_spark] in /usr/local/lib/python3.10/dist-packages (3.5.0)\n",
            "Requirement already satisfied: plotly in /usr/local/lib/python3.10/dist-packages (5.15.0)\n",
            "Requirement already satisfied: py4j==0.10.9.7 in /usr/local/lib/python3.10/dist-packages (from pyspark[pandas_on_spark]) (0.10.9.7)\n",
            "Requirement already satisfied: pandas>=1.0.5 in /usr/local/lib/python3.10/dist-packages (from pyspark[pandas_on_spark]) (1.5.3)\n",
            "Requirement already satisfied: pyarrow>=4.0.0 in /usr/local/lib/python3.10/dist-packages (from pyspark[pandas_on_spark]) (9.0.0)\n",
            "Requirement already satisfied: numpy>=1.15 in /usr/local/lib/python3.10/dist-packages (from pyspark[pandas_on_spark]) (1.23.5)\n",
            "Requirement already satisfied: tenacity>=6.2.0 in /usr/local/lib/python3.10/dist-packages (from plotly) (8.2.3)\n",
            "Requirement already satisfied: packaging in /usr/local/lib/python3.10/dist-packages (from plotly) (23.2)\n",
            "Requirement already satisfied: python-dateutil>=2.8.1 in /usr/local/lib/python3.10/dist-packages (from pandas>=1.0.5->pyspark[pandas_on_spark]) (2.8.2)\n",
            "Requirement already satisfied: pytz>=2020.1 in /usr/local/lib/python3.10/dist-packages (from pandas>=1.0.5->pyspark[pandas_on_spark]) (2023.3.post1)\n",
            "Requirement already satisfied: six>=1.5 in /usr/local/lib/python3.10/dist-packages (from python-dateutil>=2.8.1->pandas>=1.0.5->pyspark[pandas_on_spark]) (1.16.0)\n",
            "Requirement already satisfied: pyspark[connect] in /usr/local/lib/python3.10/dist-packages (3.5.0)\n",
            "Requirement already satisfied: py4j==0.10.9.7 in /usr/local/lib/python3.10/dist-packages (from pyspark[connect]) (0.10.9.7)\n",
            "Requirement already satisfied: pandas>=1.0.5 in /usr/local/lib/python3.10/dist-packages (from pyspark[connect]) (1.5.3)\n",
            "Requirement already satisfied: pyarrow>=4.0.0 in /usr/local/lib/python3.10/dist-packages (from pyspark[connect]) (9.0.0)\n",
            "Requirement already satisfied: grpcio>=1.56.0 in /usr/local/lib/python3.10/dist-packages (from pyspark[connect]) (1.59.2)\n",
            "Requirement already satisfied: grpcio-status>=1.56.0 in /usr/local/lib/python3.10/dist-packages (from pyspark[connect]) (1.59.2)\n",
            "Requirement already satisfied: googleapis-common-protos>=1.56.4 in /usr/local/lib/python3.10/dist-packages (from pyspark[connect]) (1.61.0)\n",
            "Requirement already satisfied: numpy>=1.15 in /usr/local/lib/python3.10/dist-packages (from pyspark[connect]) (1.23.5)\n",
            "Requirement already satisfied: protobuf!=3.20.0,!=3.20.1,!=4.21.1,!=4.21.2,!=4.21.3,!=4.21.4,!=4.21.5,<5.0.0.dev0,>=3.19.5 in /usr/local/lib/python3.10/dist-packages (from googleapis-common-protos>=1.56.4->pyspark[connect]) (4.25.0)\n",
            "Requirement already satisfied: python-dateutil>=2.8.1 in /usr/local/lib/python3.10/dist-packages (from pandas>=1.0.5->pyspark[connect]) (2.8.2)\n",
            "Requirement already satisfied: pytz>=2020.1 in /usr/local/lib/python3.10/dist-packages (from pandas>=1.0.5->pyspark[connect]) (2023.3.post1)\n",
            "Requirement already satisfied: six>=1.5 in /usr/local/lib/python3.10/dist-packages (from python-dateutil>=2.8.1->pandas>=1.0.5->pyspark[connect]) (1.16.0)\n"
          ]
        }
      ]
    },
    {
      "cell_type": "code",
      "source": [
        "!pip install findspark"
      ],
      "metadata": {
        "colab": {
          "base_uri": "https://localhost:8080/"
        },
        "id": "IEjIrI6-Re7G",
        "outputId": "ede42492-3971-4687-f380-a34116fbff17"
      },
      "execution_count": 17,
      "outputs": [
        {
          "output_type": "stream",
          "name": "stdout",
          "text": [
            "Requirement already satisfied: findspark in /usr/local/lib/python3.10/dist-packages (2.0.1)\n"
          ]
        }
      ]
    },
    {
      "cell_type": "code",
      "execution_count": 32,
      "metadata": {
        "colab": {
          "base_uri": "https://localhost:8080/",
          "height": 219
        },
        "id": "0kIUnMBQQrg0",
        "outputId": "e2f2d5b5-f232-4b40-f623-e30e60778c6e"
      },
      "outputs": [
        {
          "output_type": "execute_result",
          "data": {
            "text/plain": [
              "<pyspark.sql.session.SparkSession at 0x7ae266b05150>"
            ],
            "text/html": [
              "\n",
              "            <div>\n",
              "                <p><b>SparkSession - in-memory</b></p>\n",
              "                \n",
              "        <div>\n",
              "            <p><b>SparkContext</b></p>\n",
              "\n",
              "            <p><a href=\"http://9343a8bb8101:4040\">Spark UI</a></p>\n",
              "\n",
              "            <dl>\n",
              "              <dt>Version</dt>\n",
              "                <dd><code>v3.5.0</code></dd>\n",
              "              <dt>Master</dt>\n",
              "                <dd><code>local[*]</code></dd>\n",
              "              <dt>AppName</dt>\n",
              "                <dd><code>pyspark-shell</code></dd>\n",
              "            </dl>\n",
              "        </div>\n",
              "        \n",
              "            </div>\n",
              "        "
            ]
          },
          "metadata": {},
          "execution_count": 32
        }
      ],
      "source": [
        "import findspark\n",
        "from pyspark.sql.types import *\n",
        "from pyspark.sql.functions import *\n",
        "\n",
        "findspark.init()\n",
        "from pyspark.sql import SparkSession\n",
        "spark = SparkSession.builder.master(\"local[*]\").getOrCreate()\n",
        "spark.conf.set(\"spark.sql.repl.eagerEval.enabled\", True)\n",
        "spark"
      ]
    },
    {
      "cell_type": "code",
      "source": [
        "df = spark.read.csv('dataset.csv')\n",
        "\n",
        "df = df.withColumnRenamed(\"_c0\", \"Transaction_unique_identifier\") \\\n",
        "        .withColumnRenamed(\"_c1\", \"price\") \\\n",
        "        .withColumnRenamed(\"_c2\", \"Date_of_Transfer\") \\\n",
        "        .withColumnRenamed(\"_c3\", \"postcode\") \\\n",
        "        .withColumnRenamed(\"_c4\", \"Property_Type\") \\\n",
        "        .withColumnRenamed(\"_c5\", \"Old_New\") \\\n",
        "        .withColumnRenamed(\"_c6\", \"Duration\") \\\n",
        "        .withColumnRenamed(\"_c7\", \"PAON\") \\\n",
        "        .withColumnRenamed(\"_c8\", \"SAON\") \\\n",
        "        .withColumnRenamed(\"_c9\", \"Street\") \\\n",
        "        .withColumnRenamed(\"_c10\", \"Locality\") \\\n",
        "        .withColumnRenamed(\"_c11\", \"Town_City\") \\\n",
        "        .withColumnRenamed(\"_c12\", \"District\") \\\n",
        "        .withColumnRenamed(\"_c13\", \"County\") \\\n",
        "        .withColumnRenamed(\"_c14\", \"PPDCategory_Type\") \\\n",
        "        .withColumnRenamed(\"_c15\", \"idk\")\n",
        "df.head()"
      ],
      "metadata": {
        "colab": {
          "base_uri": "https://localhost:8080/"
        },
        "id": "vNFiwoITRkxp",
        "outputId": "2670ef47-8973-422e-f540-490afb5eb735"
      },
      "execution_count": 19,
      "outputs": [
        {
          "output_type": "execute_result",
          "data": {
            "text/plain": [
              "Row(Transaction_unique_identifier='{F887F88E-7D15-4415-804E-52EAC2F10958}', price='70000', Date_of_Transfer='1995-07-07 00:00', postcode='MK15 9HP', Property_Type='D', Old_New='N', Duration='F', PAON='31', SAON=None, Street='ALDRICH DRIVE', Locality='WILLEN', Town_City='MILTON KEYNES', District='MILTON KEYNES', County='MILTON KEYNES', PPDCategory_Type='A', idk='A')"
            ]
          },
          "metadata": {},
          "execution_count": 19
        }
      ]
    },
    {
      "cell_type": "code",
      "source": [
        "df.columns"
      ],
      "metadata": {
        "colab": {
          "base_uri": "https://localhost:8080/"
        },
        "id": "93xfzrZbRniX",
        "outputId": "e13a2beb-5aeb-4fc2-9721-c72b261d2d64"
      },
      "execution_count": 20,
      "outputs": [
        {
          "output_type": "execute_result",
          "data": {
            "text/plain": [
              "['Transaction_unique_identifier',\n",
              " 'price',\n",
              " 'Date_of_Transfer',\n",
              " 'postcode',\n",
              " 'Property_Type',\n",
              " 'Old_New',\n",
              " 'Duration',\n",
              " 'PAON',\n",
              " 'SAON',\n",
              " 'Street',\n",
              " 'Locality',\n",
              " 'Town_City',\n",
              " 'District',\n",
              " 'County',\n",
              " 'PPDCategory_Type',\n",
              " 'idk']"
            ]
          },
          "metadata": {},
          "execution_count": 20
        }
      ]
    },
    {
      "cell_type": "markdown",
      "source": [
        "1.Найти среднюю цену среди всех транзакций, сгруппированных по типу собственности и длительности владения:"
      ],
      "metadata": {
        "id": "AKDdsuNdU0ZV"
      }
    },
    {
      "cell_type": "code",
      "source": [
        "df.groupBy(\"Property_Type\", \"Duration\").agg(avg(\"price\").alias(\"Average_Price\")).show()"
      ],
      "metadata": {
        "colab": {
          "base_uri": "https://localhost:8080/"
        },
        "id": "6I7mBMSYTXNh",
        "outputId": "cf47a915-8e41-4471-e3ce-7e8d6001cec5"
      },
      "execution_count": 26,
      "outputs": [
        {
          "output_type": "stream",
          "name": "stdout",
          "text": [
            "+-------------+--------+------------------+\n",
            "|Property_Type|Duration|     Average_Price|\n",
            "+-------------+--------+------------------+\n",
            "|            S|       F| 61570.41604239112|\n",
            "|            S|       U|65331.666666666664|\n",
            "|            T|       F|52674.805845672694|\n",
            "|            D|       F|106729.03828337233|\n",
            "|            F|       F| 61837.73195412638|\n",
            "|            D|       U|           96990.0|\n",
            "|            F|       U|           61879.0|\n",
            "|            S|       L|  51257.6982875169|\n",
            "|            D|       L|  85242.8239777526|\n",
            "|            F|       L| 58614.61169561398|\n",
            "|            T|       L| 41629.88612244898|\n",
            "|            O|       L|           80500.0|\n",
            "|            O|       F|         1183323.2|\n",
            "|            T|       U|           26000.0|\n",
            "+-------------+--------+------------------+\n",
            "\n"
          ]
        }
      ]
    },
    {
      "cell_type": "markdown",
      "source": [
        "Посчитать общую сумму продаж по каждому городу:"
      ],
      "metadata": {
        "id": "xcPKcaasU07K"
      }
    },
    {
      "cell_type": "code",
      "source": [
        "df.groupBy(\"Town_City\").agg(sum(\"price\").alias(\"Total_Sales\")).show()"
      ],
      "metadata": {
        "colab": {
          "base_uri": "https://localhost:8080/"
        },
        "id": "0CYEXa3XUPXe",
        "outputId": "3aa3891e-bfd1-438e-dbdb-f5030ab5e82b"
      },
      "execution_count": 27,
      "outputs": [
        {
          "output_type": "stream",
          "name": "stdout",
          "text": [
            "+--------------------+------------+\n",
            "|           Town_City| Total_Sales|\n",
            "+--------------------+------------+\n",
            "|        HIGH WYCOMBE|2.61111892E8|\n",
            "| ST. LEONARDS-ON-SEA| 5.6266978E7|\n",
            "|             NEWQUAY| 3.6387485E7|\n",
            "|  BERWICK-UPON-TWEED| 1.4048442E7|\n",
            "|            GOODWICK|    850150.0|\n",
            "|           ROTHERHAM|1.41388844E8|\n",
            "|           LLANGEFNI|   3957991.0|\n",
            "|            STAMFORD| 5.4630079E7|\n",
            "|         CHOPPINGTON|   6101166.0|\n",
            "|   LEE-ON-THE-SOLENT| 1.5707105E7|\n",
            "|           FERRYSIDE|    801980.0|\n",
            "|         LOSTWITHIEL|   5195350.0|\n",
            "|             FAREHAM|1.78979447E8|\n",
            "|             CHORLEY| 7.8830795E7|\n",
            "|             HARWICH| 2.1678329E7|\n",
            "|              DUNMOW| 5.0744103E7|\n",
            "|             ROYSTON| 7.2737277E7|\n",
            "|              HESSLE| 1.8661145E7|\n",
            "|       RICKMANSWORTH|1.17080265E8|\n",
            "|LLANFAIRPWLLGWYNGYLL|   5356695.0|\n",
            "+--------------------+------------+\n",
            "only showing top 20 rows\n",
            "\n"
          ]
        }
      ]
    },
    {
      "cell_type": "markdown",
      "source": [
        "3. Найти самую дорогую транзакцию для каждого типа собственности:"
      ],
      "metadata": {
        "id": "CHy-hxG3U2Wz"
      }
    },
    {
      "cell_type": "code",
      "source": [
        "df.groupBy(\"District\").agg(avg(\"price\").alias(\"Average_Price\")).show()"
      ],
      "metadata": {
        "colab": {
          "base_uri": "https://localhost:8080/"
        },
        "id": "Gd7dm2pkU8-q",
        "outputId": "434d89bb-7202-48e9-bbd9-43cd98d5813b"
      },
      "execution_count": 28,
      "outputs": [
        {
          "output_type": "stream",
          "name": "stdout",
          "text": [
            "+------------------+------------------+\n",
            "|          District|     Average_Price|\n",
            "+------------------+------------------+\n",
            "|      NORTH DORSET| 77028.29382093316|\n",
            "|CREWE AND NANTWICH| 58272.65777993214|\n",
            "|BERWICK-UPON-TWEED| 53042.57534246575|\n",
            "|         ROTHERHAM| 46590.89839704069|\n",
            "|         ABERCONWY| 53561.19313850063|\n",
            "|          SANDWELL| 44140.04236262406|\n",
            "|           FAREHAM| 75453.08991008991|\n",
            "|           RUTLAND| 82580.70605612999|\n",
            "|           CHORLEY| 55090.44198250729|\n",
            "|     MILTON KEYNES| 62589.67295597484|\n",
            "|  SOUTH DERBYSHIRE| 57211.54988262911|\n",
            "|    MERTHYR TYDFIL| 35512.18965517241|\n",
            "|              HART|104458.23519163764|\n",
            "|        WINCHESTER|110275.49613402062|\n",
            "|        BRIDGNORTH| 76207.89819724284|\n",
            "|       LLIW VALLEY|43399.583662714096|\n",
            "|           CARRICK| 64213.11045071818|\n",
            "|       MID SUFFOLK| 66462.42877767084|\n",
            "|    NORTH CORNWALL| 59466.36515809051|\n",
            "|   NORTH WILTSHIRE|  75156.2750798722|\n",
            "+------------------+------------------+\n",
            "only showing top 20 rows\n",
            "\n"
          ]
        }
      ]
    },
    {
      "cell_type": "markdown",
      "source": [
        "4. Посчитать количество транзакций, где цена превышает среднюю цену по всем транзакциям:"
      ],
      "metadata": {
        "id": "mGyiiO4BU5ti"
      }
    },
    {
      "cell_type": "code",
      "source": [
        "average_price = df.select(avg(\"price\")).first()[0]\n",
        "df.filter(col(\"price\") > average_price).count()"
      ],
      "metadata": {
        "colab": {
          "base_uri": "https://localhost:8080/"
        },
        "id": "090CglGzU9Uj",
        "outputId": "f05d9126-2e8a-4c16-c552-989022fa09d0"
      },
      "execution_count": 29,
      "outputs": [
        {
          "output_type": "execute_result",
          "data": {
            "text/plain": [
              "364889"
            ]
          },
          "metadata": {},
          "execution_count": 29
        }
      ]
    },
    {
      "cell_type": "markdown",
      "source": [
        "5. Найти среднюю цену по каждому типу собственности:"
      ],
      "metadata": {
        "id": "x-7pqOoqU6pv"
      }
    },
    {
      "cell_type": "code",
      "source": [
        "df.groupBy(\"Property_Type\").agg(avg(\"price\").alias(\"Average_Price\")).show()"
      ],
      "metadata": {
        "colab": {
          "base_uri": "https://localhost:8080/"
        },
        "id": "CpR47XrxU9tM",
        "outputId": "3fdcb942-f795-4818-a1ce-4c48453b0299"
      },
      "execution_count": 34,
      "outputs": [
        {
          "output_type": "stream",
          "name": "stdout",
          "text": [
            "+-------------+-----------------+\n",
            "|Property_Type|    Average_Price|\n",
            "+-------------+-----------------+\n",
            "|            F|58704.03892185708|\n",
            "|            T|51648.06572691853|\n",
            "|            D|105939.9987445452|\n",
            "|            O|693179.5555555555|\n",
            "|            S| 60734.7141465879|\n",
            "+-------------+-----------------+\n",
            "\n"
          ]
        }
      ]
    }
  ]
}